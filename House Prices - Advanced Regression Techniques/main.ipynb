{
  "nbformat": 4,
  "nbformat_minor": 0,
  "metadata": {
    "colab": {
      "provenance": [],
      "collapsed_sections": [
        "adoyC1CJaCy3",
        "jfGdld3fZ_kv",
        "XfgAQkc7Z85O",
        "SU3ouOm1h813",
        "dulPdQ9v9HBy",
        "Cr92u6T0xzfv",
        "CMkn2EZZzDtC"
      ],
      "include_colab_link": true
    },
    "kernelspec": {
      "name": "python3",
      "display_name": "Python 3"
    },
    "language_info": {
      "name": "python"
    }
  },
  "cells": [
    {
      "cell_type": "markdown",
      "metadata": {
        "id": "view-in-github",
        "colab_type": "text"
      },
      "source": [
        "<a href=\"https://colab.research.google.com/github/harigovindr2003/projects/blob/main/House%20Prices%20-%20Advanced%20Regression%20Techniques/main.ipynb\" target=\"_parent\"><img src=\"https://colab.research.google.com/assets/colab-badge.svg\" alt=\"Open In Colab\"/></a>"
      ]
    },
    {
      "cell_type": "markdown",
      "source": [
        "# Overview\n"
      ],
      "metadata": {
        "id": "xtZATdA6Wh4P"
      }
    },
    {
      "cell_type": "markdown",
      "source": [
        "## Initializing dataset"
      ],
      "metadata": {
        "id": "SUrYoXfMWR5P"
      }
    },
    {
      "cell_type": "code",
      "source": [
        "!wget https://github.com/harigovindr2003/projects/blob/main/House%20Prices%20-%20Advanced%20Regression%20Techniques/dataset/train.csv\n",
        "!wget https://github.com/harigovindr2003/projects/blob/main/House%20Prices%20-%20Advanced%20Regression%20Techniques/dataset/test.csv\n",
        "!wget https://github.com/harigovindr2003/projects/blob/main/House%20Prices%20-%20Advanced%20Regression%20Techniques/dataset/data_description.txt"
      ],
      "metadata": {
        "collapsed": true,
        "id": "VwwyPw7JxF8y"
      },
      "execution_count": null,
      "outputs": []
    },
    {
      "cell_type": "code",
      "execution_count": null,
      "metadata": {
        "colab": {
          "base_uri": "https://localhost:8080/",
          "height": 255
        },
        "collapsed": true,
        "id": "g5CFVtnQSjM-",
        "outputId": "f8834bbc-4e7c-4d66-83e7-1139e2f1348d"
      },
      "outputs": [
        {
          "output_type": "execute_result",
          "data": {
            "text/plain": [
              "   Id  MSSubClass MSZoning  LotFrontage  LotArea Street Alley LotShape  \\\n",
              "0   1          60       RL         65.0     8450   Pave   NaN      Reg   \n",
              "1   2          20       RL         80.0     9600   Pave   NaN      Reg   \n",
              "2   3          60       RL         68.0    11250   Pave   NaN      IR1   \n",
              "3   4          70       RL         60.0     9550   Pave   NaN      IR1   \n",
              "4   5          60       RL         84.0    14260   Pave   NaN      IR1   \n",
              "\n",
              "  LandContour Utilities  ... PoolArea PoolQC Fence MiscFeature MiscVal MoSold  \\\n",
              "0         Lvl    AllPub  ...        0    NaN   NaN         NaN       0      2   \n",
              "1         Lvl    AllPub  ...        0    NaN   NaN         NaN       0      5   \n",
              "2         Lvl    AllPub  ...        0    NaN   NaN         NaN       0      9   \n",
              "3         Lvl    AllPub  ...        0    NaN   NaN         NaN       0      2   \n",
              "4         Lvl    AllPub  ...        0    NaN   NaN         NaN       0     12   \n",
              "\n",
              "  YrSold  SaleType  SaleCondition  SalePrice  \n",
              "0   2008        WD         Normal     208500  \n",
              "1   2007        WD         Normal     181500  \n",
              "2   2008        WD         Normal     223500  \n",
              "3   2006        WD        Abnorml     140000  \n",
              "4   2008        WD         Normal     250000  \n",
              "\n",
              "[5 rows x 81 columns]"
            ],
            "text/html": [
              "\n",
              "  <div id=\"df-9f37d7d9-9564-4251-abb2-c7dcfc64310c\" class=\"colab-df-container\">\n",
              "    <div>\n",
              "<style scoped>\n",
              "    .dataframe tbody tr th:only-of-type {\n",
              "        vertical-align: middle;\n",
              "    }\n",
              "\n",
              "    .dataframe tbody tr th {\n",
              "        vertical-align: top;\n",
              "    }\n",
              "\n",
              "    .dataframe thead th {\n",
              "        text-align: right;\n",
              "    }\n",
              "</style>\n",
              "<table border=\"1\" class=\"dataframe\">\n",
              "  <thead>\n",
              "    <tr style=\"text-align: right;\">\n",
              "      <th></th>\n",
              "      <th>Id</th>\n",
              "      <th>MSSubClass</th>\n",
              "      <th>MSZoning</th>\n",
              "      <th>LotFrontage</th>\n",
              "      <th>LotArea</th>\n",
              "      <th>Street</th>\n",
              "      <th>Alley</th>\n",
              "      <th>LotShape</th>\n",
              "      <th>LandContour</th>\n",
              "      <th>Utilities</th>\n",
              "      <th>...</th>\n",
              "      <th>PoolArea</th>\n",
              "      <th>PoolQC</th>\n",
              "      <th>Fence</th>\n",
              "      <th>MiscFeature</th>\n",
              "      <th>MiscVal</th>\n",
              "      <th>MoSold</th>\n",
              "      <th>YrSold</th>\n",
              "      <th>SaleType</th>\n",
              "      <th>SaleCondition</th>\n",
              "      <th>SalePrice</th>\n",
              "    </tr>\n",
              "  </thead>\n",
              "  <tbody>\n",
              "    <tr>\n",
              "      <th>0</th>\n",
              "      <td>1</td>\n",
              "      <td>60</td>\n",
              "      <td>RL</td>\n",
              "      <td>65.0</td>\n",
              "      <td>8450</td>\n",
              "      <td>Pave</td>\n",
              "      <td>NaN</td>\n",
              "      <td>Reg</td>\n",
              "      <td>Lvl</td>\n",
              "      <td>AllPub</td>\n",
              "      <td>...</td>\n",
              "      <td>0</td>\n",
              "      <td>NaN</td>\n",
              "      <td>NaN</td>\n",
              "      <td>NaN</td>\n",
              "      <td>0</td>\n",
              "      <td>2</td>\n",
              "      <td>2008</td>\n",
              "      <td>WD</td>\n",
              "      <td>Normal</td>\n",
              "      <td>208500</td>\n",
              "    </tr>\n",
              "    <tr>\n",
              "      <th>1</th>\n",
              "      <td>2</td>\n",
              "      <td>20</td>\n",
              "      <td>RL</td>\n",
              "      <td>80.0</td>\n",
              "      <td>9600</td>\n",
              "      <td>Pave</td>\n",
              "      <td>NaN</td>\n",
              "      <td>Reg</td>\n",
              "      <td>Lvl</td>\n",
              "      <td>AllPub</td>\n",
              "      <td>...</td>\n",
              "      <td>0</td>\n",
              "      <td>NaN</td>\n",
              "      <td>NaN</td>\n",
              "      <td>NaN</td>\n",
              "      <td>0</td>\n",
              "      <td>5</td>\n",
              "      <td>2007</td>\n",
              "      <td>WD</td>\n",
              "      <td>Normal</td>\n",
              "      <td>181500</td>\n",
              "    </tr>\n",
              "    <tr>\n",
              "      <th>2</th>\n",
              "      <td>3</td>\n",
              "      <td>60</td>\n",
              "      <td>RL</td>\n",
              "      <td>68.0</td>\n",
              "      <td>11250</td>\n",
              "      <td>Pave</td>\n",
              "      <td>NaN</td>\n",
              "      <td>IR1</td>\n",
              "      <td>Lvl</td>\n",
              "      <td>AllPub</td>\n",
              "      <td>...</td>\n",
              "      <td>0</td>\n",
              "      <td>NaN</td>\n",
              "      <td>NaN</td>\n",
              "      <td>NaN</td>\n",
              "      <td>0</td>\n",
              "      <td>9</td>\n",
              "      <td>2008</td>\n",
              "      <td>WD</td>\n",
              "      <td>Normal</td>\n",
              "      <td>223500</td>\n",
              "    </tr>\n",
              "    <tr>\n",
              "      <th>3</th>\n",
              "      <td>4</td>\n",
              "      <td>70</td>\n",
              "      <td>RL</td>\n",
              "      <td>60.0</td>\n",
              "      <td>9550</td>\n",
              "      <td>Pave</td>\n",
              "      <td>NaN</td>\n",
              "      <td>IR1</td>\n",
              "      <td>Lvl</td>\n",
              "      <td>AllPub</td>\n",
              "      <td>...</td>\n",
              "      <td>0</td>\n",
              "      <td>NaN</td>\n",
              "      <td>NaN</td>\n",
              "      <td>NaN</td>\n",
              "      <td>0</td>\n",
              "      <td>2</td>\n",
              "      <td>2006</td>\n",
              "      <td>WD</td>\n",
              "      <td>Abnorml</td>\n",
              "      <td>140000</td>\n",
              "    </tr>\n",
              "    <tr>\n",
              "      <th>4</th>\n",
              "      <td>5</td>\n",
              "      <td>60</td>\n",
              "      <td>RL</td>\n",
              "      <td>84.0</td>\n",
              "      <td>14260</td>\n",
              "      <td>Pave</td>\n",
              "      <td>NaN</td>\n",
              "      <td>IR1</td>\n",
              "      <td>Lvl</td>\n",
              "      <td>AllPub</td>\n",
              "      <td>...</td>\n",
              "      <td>0</td>\n",
              "      <td>NaN</td>\n",
              "      <td>NaN</td>\n",
              "      <td>NaN</td>\n",
              "      <td>0</td>\n",
              "      <td>12</td>\n",
              "      <td>2008</td>\n",
              "      <td>WD</td>\n",
              "      <td>Normal</td>\n",
              "      <td>250000</td>\n",
              "    </tr>\n",
              "  </tbody>\n",
              "</table>\n",
              "<p>5 rows × 81 columns</p>\n",
              "</div>\n",
              "    <div class=\"colab-df-buttons\">\n",
              "\n",
              "  <div class=\"colab-df-container\">\n",
              "    <button class=\"colab-df-convert\" onclick=\"convertToInteractive('df-9f37d7d9-9564-4251-abb2-c7dcfc64310c')\"\n",
              "            title=\"Convert this dataframe to an interactive table.\"\n",
              "            style=\"display:none;\">\n",
              "\n",
              "  <svg xmlns=\"http://www.w3.org/2000/svg\" height=\"24px\" viewBox=\"0 -960 960 960\">\n",
              "    <path d=\"M120-120v-720h720v720H120Zm60-500h600v-160H180v160Zm220 220h160v-160H400v160Zm0 220h160v-160H400v160ZM180-400h160v-160H180v160Zm440 0h160v-160H620v160ZM180-180h160v-160H180v160Zm440 0h160v-160H620v160Z\"/>\n",
              "  </svg>\n",
              "    </button>\n",
              "\n",
              "  <style>\n",
              "    .colab-df-container {\n",
              "      display:flex;\n",
              "      gap: 12px;\n",
              "    }\n",
              "\n",
              "    .colab-df-convert {\n",
              "      background-color: #E8F0FE;\n",
              "      border: none;\n",
              "      border-radius: 50%;\n",
              "      cursor: pointer;\n",
              "      display: none;\n",
              "      fill: #1967D2;\n",
              "      height: 32px;\n",
              "      padding: 0 0 0 0;\n",
              "      width: 32px;\n",
              "    }\n",
              "\n",
              "    .colab-df-convert:hover {\n",
              "      background-color: #E2EBFA;\n",
              "      box-shadow: 0px 1px 2px rgba(60, 64, 67, 0.3), 0px 1px 3px 1px rgba(60, 64, 67, 0.15);\n",
              "      fill: #174EA6;\n",
              "    }\n",
              "\n",
              "    .colab-df-buttons div {\n",
              "      margin-bottom: 4px;\n",
              "    }\n",
              "\n",
              "    [theme=dark] .colab-df-convert {\n",
              "      background-color: #3B4455;\n",
              "      fill: #D2E3FC;\n",
              "    }\n",
              "\n",
              "    [theme=dark] .colab-df-convert:hover {\n",
              "      background-color: #434B5C;\n",
              "      box-shadow: 0px 1px 3px 1px rgba(0, 0, 0, 0.15);\n",
              "      filter: drop-shadow(0px 1px 2px rgba(0, 0, 0, 0.3));\n",
              "      fill: #FFFFFF;\n",
              "    }\n",
              "  </style>\n",
              "\n",
              "    <script>\n",
              "      const buttonEl =\n",
              "        document.querySelector('#df-9f37d7d9-9564-4251-abb2-c7dcfc64310c button.colab-df-convert');\n",
              "      buttonEl.style.display =\n",
              "        google.colab.kernel.accessAllowed ? 'block' : 'none';\n",
              "\n",
              "      async function convertToInteractive(key) {\n",
              "        const element = document.querySelector('#df-9f37d7d9-9564-4251-abb2-c7dcfc64310c');\n",
              "        const dataTable =\n",
              "          await google.colab.kernel.invokeFunction('convertToInteractive',\n",
              "                                                    [key], {});\n",
              "        if (!dataTable) return;\n",
              "\n",
              "        const docLinkHtml = 'Like what you see? Visit the ' +\n",
              "          '<a target=\"_blank\" href=https://colab.research.google.com/notebooks/data_table.ipynb>data table notebook</a>'\n",
              "          + ' to learn more about interactive tables.';\n",
              "        element.innerHTML = '';\n",
              "        dataTable['output_type'] = 'display_data';\n",
              "        await google.colab.output.renderOutput(dataTable, element);\n",
              "        const docLink = document.createElement('div');\n",
              "        docLink.innerHTML = docLinkHtml;\n",
              "        element.appendChild(docLink);\n",
              "      }\n",
              "    </script>\n",
              "  </div>\n",
              "\n",
              "\n",
              "<div id=\"df-5d2065fa-bfc9-4818-af0e-28ec96ebe328\">\n",
              "  <button class=\"colab-df-quickchart\" onclick=\"quickchart('df-5d2065fa-bfc9-4818-af0e-28ec96ebe328')\"\n",
              "            title=\"Suggest charts\"\n",
              "            style=\"display:none;\">\n",
              "\n",
              "<svg xmlns=\"http://www.w3.org/2000/svg\" height=\"24px\"viewBox=\"0 0 24 24\"\n",
              "     width=\"24px\">\n",
              "    <g>\n",
              "        <path d=\"M19 3H5c-1.1 0-2 .9-2 2v14c0 1.1.9 2 2 2h14c1.1 0 2-.9 2-2V5c0-1.1-.9-2-2-2zM9 17H7v-7h2v7zm4 0h-2V7h2v10zm4 0h-2v-4h2v4z\"/>\n",
              "    </g>\n",
              "</svg>\n",
              "  </button>\n",
              "\n",
              "<style>\n",
              "  .colab-df-quickchart {\n",
              "      --bg-color: #E8F0FE;\n",
              "      --fill-color: #1967D2;\n",
              "      --hover-bg-color: #E2EBFA;\n",
              "      --hover-fill-color: #174EA6;\n",
              "      --disabled-fill-color: #AAA;\n",
              "      --disabled-bg-color: #DDD;\n",
              "  }\n",
              "\n",
              "  [theme=dark] .colab-df-quickchart {\n",
              "      --bg-color: #3B4455;\n",
              "      --fill-color: #D2E3FC;\n",
              "      --hover-bg-color: #434B5C;\n",
              "      --hover-fill-color: #FFFFFF;\n",
              "      --disabled-bg-color: #3B4455;\n",
              "      --disabled-fill-color: #666;\n",
              "  }\n",
              "\n",
              "  .colab-df-quickchart {\n",
              "    background-color: var(--bg-color);\n",
              "    border: none;\n",
              "    border-radius: 50%;\n",
              "    cursor: pointer;\n",
              "    display: none;\n",
              "    fill: var(--fill-color);\n",
              "    height: 32px;\n",
              "    padding: 0;\n",
              "    width: 32px;\n",
              "  }\n",
              "\n",
              "  .colab-df-quickchart:hover {\n",
              "    background-color: var(--hover-bg-color);\n",
              "    box-shadow: 0 1px 2px rgba(60, 64, 67, 0.3), 0 1px 3px 1px rgba(60, 64, 67, 0.15);\n",
              "    fill: var(--button-hover-fill-color);\n",
              "  }\n",
              "\n",
              "  .colab-df-quickchart-complete:disabled,\n",
              "  .colab-df-quickchart-complete:disabled:hover {\n",
              "    background-color: var(--disabled-bg-color);\n",
              "    fill: var(--disabled-fill-color);\n",
              "    box-shadow: none;\n",
              "  }\n",
              "\n",
              "  .colab-df-spinner {\n",
              "    border: 2px solid var(--fill-color);\n",
              "    border-color: transparent;\n",
              "    border-bottom-color: var(--fill-color);\n",
              "    animation:\n",
              "      spin 1s steps(1) infinite;\n",
              "  }\n",
              "\n",
              "  @keyframes spin {\n",
              "    0% {\n",
              "      border-color: transparent;\n",
              "      border-bottom-color: var(--fill-color);\n",
              "      border-left-color: var(--fill-color);\n",
              "    }\n",
              "    20% {\n",
              "      border-color: transparent;\n",
              "      border-left-color: var(--fill-color);\n",
              "      border-top-color: var(--fill-color);\n",
              "    }\n",
              "    30% {\n",
              "      border-color: transparent;\n",
              "      border-left-color: var(--fill-color);\n",
              "      border-top-color: var(--fill-color);\n",
              "      border-right-color: var(--fill-color);\n",
              "    }\n",
              "    40% {\n",
              "      border-color: transparent;\n",
              "      border-right-color: var(--fill-color);\n",
              "      border-top-color: var(--fill-color);\n",
              "    }\n",
              "    60% {\n",
              "      border-color: transparent;\n",
              "      border-right-color: var(--fill-color);\n",
              "    }\n",
              "    80% {\n",
              "      border-color: transparent;\n",
              "      border-right-color: var(--fill-color);\n",
              "      border-bottom-color: var(--fill-color);\n",
              "    }\n",
              "    90% {\n",
              "      border-color: transparent;\n",
              "      border-bottom-color: var(--fill-color);\n",
              "    }\n",
              "  }\n",
              "</style>\n",
              "\n",
              "  <script>\n",
              "    async function quickchart(key) {\n",
              "      const quickchartButtonEl =\n",
              "        document.querySelector('#' + key + ' button');\n",
              "      quickchartButtonEl.disabled = true;  // To prevent multiple clicks.\n",
              "      quickchartButtonEl.classList.add('colab-df-spinner');\n",
              "      try {\n",
              "        const charts = await google.colab.kernel.invokeFunction(\n",
              "            'suggestCharts', [key], {});\n",
              "      } catch (error) {\n",
              "        console.error('Error during call to suggestCharts:', error);\n",
              "      }\n",
              "      quickchartButtonEl.classList.remove('colab-df-spinner');\n",
              "      quickchartButtonEl.classList.add('colab-df-quickchart-complete');\n",
              "    }\n",
              "    (() => {\n",
              "      let quickchartButtonEl =\n",
              "        document.querySelector('#df-5d2065fa-bfc9-4818-af0e-28ec96ebe328 button');\n",
              "      quickchartButtonEl.style.display =\n",
              "        google.colab.kernel.accessAllowed ? 'block' : 'none';\n",
              "    })();\n",
              "  </script>\n",
              "</div>\n",
              "\n",
              "    </div>\n",
              "  </div>\n"
            ],
            "application/vnd.google.colaboratory.intrinsic+json": {
              "type": "dataframe",
              "variable_name": "train"
            }
          },
          "metadata": {},
          "execution_count": 43
        }
      ],
      "source": [
        "import pandas as pd\n",
        "train_original = pd.read_csv('/content/drive/MyDrive/Colab Notebooks/train.csv')\n",
        "test_original = pd.read_csv('/content/drive/MyDrive/Colab Notebooks/test.csv')\n",
        "train = train_original.copy()\n",
        "test = test_original.copy()\n",
        "train.head()"
      ]
    },
    {
      "cell_type": "markdown",
      "source": [
        "- The **training dataset** (`train.csv`) has a `SalePrice` column, which is the **target variable** we need to predict.\n",
        "- The **test dataset** (`test.csv`) does not have the `SalePrice` column since it is the data on which we will make predictions.\n",
        "- The dataset consists of both **numerical** and **categorical** variables.\n",
        "- Some columns contain **missing values**, which will need to be handled in data preprocessing."
      ],
      "metadata": {
        "id": "iFHiiR05Wcqd"
      }
    },
    {
      "cell_type": "markdown",
      "source": [
        "## Check for missing values"
      ],
      "metadata": {
        "id": "adoyC1CJaCy3"
      }
    },
    {
      "cell_type": "code",
      "source": [
        "missing_values = train.isnull().sum()\n",
        "missing_values = missing_values[missing_values > 0]\n",
        "missing_values.sort_values(inplace=True)\n",
        "print(\"\\nMissing Values: \\n\", missing_values)"
      ],
      "metadata": {
        "colab": {
          "base_uri": "https://localhost:8080/"
        },
        "collapsed": true,
        "id": "ngjH98K-X4XA",
        "outputId": "2892c8c4-3454-467d-8d00-143da77141ce"
      },
      "execution_count": null,
      "outputs": [
        {
          "output_type": "stream",
          "name": "stdout",
          "text": [
            "\n",
            "Missing Values: \n",
            " Electrical         1\n",
            "MasVnrArea         8\n",
            "BsmtQual          37\n",
            "BsmtCond          37\n",
            "BsmtFinType1      37\n",
            "BsmtExposure      38\n",
            "BsmtFinType2      38\n",
            "GarageCond        81\n",
            "GarageQual        81\n",
            "GarageFinish      81\n",
            "GarageYrBlt       81\n",
            "GarageType        81\n",
            "LotFrontage      259\n",
            "FireplaceQu      690\n",
            "MasVnrType       872\n",
            "Fence           1179\n",
            "Alley           1369\n",
            "MiscFeature     1406\n",
            "PoolQC          1453\n",
            "dtype: int64\n"
          ]
        }
      ]
    },
    {
      "cell_type": "markdown",
      "source": [
        "During model building, we will deal with the missing values of those columns that are relevant to the model."
      ],
      "metadata": {
        "id": "vj0wN39EszdG"
      }
    },
    {
      "cell_type": "markdown",
      "source": [
        "## Summary statistics"
      ],
      "metadata": {
        "id": "jfGdld3fZ_kv"
      }
    },
    {
      "cell_type": "code",
      "source": [
        "print(\"\\nSummary Statics: \\n\", train.describe())"
      ],
      "metadata": {
        "colab": {
          "base_uri": "https://localhost:8080/"
        },
        "id": "Q2g4NEAAZ1Kr",
        "outputId": "dcbf6089-2159-4537-93da-3c71b1690e75"
      },
      "execution_count": null,
      "outputs": [
        {
          "output_type": "stream",
          "name": "stdout",
          "text": [
            "\n",
            "Summary Statics: \n",
            "                 Id   MSSubClass  LotFrontage        LotArea  OverallQual  \\\n",
            "count  1460.000000  1460.000000  1201.000000    1460.000000  1460.000000   \n",
            "mean    730.500000    56.897260    70.049958   10516.828082     6.099315   \n",
            "std     421.610009    42.300571    24.284752    9981.264932     1.382997   \n",
            "min       1.000000    20.000000    21.000000    1300.000000     1.000000   \n",
            "25%     365.750000    20.000000    59.000000    7553.500000     5.000000   \n",
            "50%     730.500000    50.000000    69.000000    9478.500000     6.000000   \n",
            "75%    1095.250000    70.000000    80.000000   11601.500000     7.000000   \n",
            "max    1460.000000   190.000000   313.000000  215245.000000    10.000000   \n",
            "\n",
            "       OverallCond    YearBuilt  YearRemodAdd   MasVnrArea   BsmtFinSF1  ...  \\\n",
            "count  1460.000000  1460.000000   1460.000000  1452.000000  1460.000000  ...   \n",
            "mean      5.575342  1971.267808   1984.865753   103.685262   443.639726  ...   \n",
            "std       1.112799    30.202904     20.645407   181.066207   456.098091  ...   \n",
            "min       1.000000  1872.000000   1950.000000     0.000000     0.000000  ...   \n",
            "25%       5.000000  1954.000000   1967.000000     0.000000     0.000000  ...   \n",
            "50%       5.000000  1973.000000   1994.000000     0.000000   383.500000  ...   \n",
            "75%       6.000000  2000.000000   2004.000000   166.000000   712.250000  ...   \n",
            "max       9.000000  2010.000000   2010.000000  1600.000000  5644.000000  ...   \n",
            "\n",
            "        WoodDeckSF  OpenPorchSF  EnclosedPorch    3SsnPorch  ScreenPorch  \\\n",
            "count  1460.000000  1460.000000    1460.000000  1460.000000  1460.000000   \n",
            "mean     94.244521    46.660274      21.954110     3.409589    15.060959   \n",
            "std     125.338794    66.256028      61.119149    29.317331    55.757415   \n",
            "min       0.000000     0.000000       0.000000     0.000000     0.000000   \n",
            "25%       0.000000     0.000000       0.000000     0.000000     0.000000   \n",
            "50%       0.000000    25.000000       0.000000     0.000000     0.000000   \n",
            "75%     168.000000    68.000000       0.000000     0.000000     0.000000   \n",
            "max     857.000000   547.000000     552.000000   508.000000   480.000000   \n",
            "\n",
            "          PoolArea       MiscVal       MoSold       YrSold      SalePrice  \n",
            "count  1460.000000   1460.000000  1460.000000  1460.000000    1460.000000  \n",
            "mean      2.758904     43.489041     6.321918  2007.815753  180921.195890  \n",
            "std      40.177307    496.123024     2.703626     1.328095   79442.502883  \n",
            "min       0.000000      0.000000     1.000000  2006.000000   34900.000000  \n",
            "25%       0.000000      0.000000     5.000000  2007.000000  129975.000000  \n",
            "50%       0.000000      0.000000     6.000000  2008.000000  163000.000000  \n",
            "75%       0.000000      0.000000     8.000000  2009.000000  214000.000000  \n",
            "max     738.000000  15500.000000    12.000000  2010.000000  755000.000000  \n",
            "\n",
            "[8 rows x 38 columns]\n"
          ]
        }
      ]
    },
    {
      "cell_type": "markdown",
      "source": [
        "## Distribution of the target variable"
      ],
      "metadata": {
        "id": "XfgAQkc7Z85O"
      }
    },
    {
      "cell_type": "code",
      "source": [
        "import matplotlib.pyplot as plt\n",
        "import seaborn as sns\n",
        "plt.figure(figsize=(8,6))\n",
        "sns.histplot(train['SalePrice'], kde=True, bins=30)\n",
        "plt.title(\"Distribution of SalePrice\")\n",
        "plt.xlabel(\"SalePrice\")\n",
        "plt.ylabel(\"Frequency\")\n",
        "plt.show()"
      ],
      "metadata": {
        "colab": {
          "base_uri": "https://localhost:8080/"
        },
        "id": "yxueXQhwZyr2",
        "outputId": "2a28bfc5-e237-428f-bfce-af26711262e9"
      },
      "execution_count": null,
      "outputs": [
        {
          "output_type": "display_data",
          "data": {
            "text/plain": [
              "<Figure size 800x600 with 1 Axes>"
            ],
            "image/png": "[encoded data removed]"
          },
          "metadata": {}
        }
      ]
    },
    {
      "cell_type": "markdown",
      "source": [
        "# Preprocessing"
      ],
      "metadata": {
        "id": "CqiquMMqdR-q"
      }
    },
    {
      "cell_type": "markdown",
      "source": [
        "## Fixing categorical variables"
      ],
      "metadata": {
        "id": "SU3ouOm1h813"
      }
    },
    {
      "cell_type": "markdown",
      "source": [
        "### Identification"
      ],
      "metadata": {
        "id": "FwINQ6-IvbmC"
      }
    },
    {
      "cell_type": "markdown",
      "source": [
        "- **Method:**  \n",
        "  We started by extracting all columns with object data types using `select_dtypes(include=['object'])`. This step lets us isolate variables that are inherently non-numeric and require special handling.\n",
        "\n",
        "- **Purpose:**  \n",
        "  This identification allows us to focus our analysis on features that might impact the target variable, `SalePrice`, in non-numerical ways."
      ],
      "metadata": {
        "id": "esInxiEDvo63"
      }
    },
    {
      "cell_type": "code",
      "source": [
        "categorical_cols = train.select_dtypes(include=['object']).columns\n",
        "print(\"Categorical columns:\")\n",
        "print(categorical_cols)"
      ],
      "metadata": {
        "colab": {
          "base_uri": "https://localhost:8080/"
        },
        "id": "JOmbwem5vauo",
        "outputId": "67da0491-1eb7-4af0-d7d8-0740db9431ad"
      },
      "execution_count": null,
      "outputs": [
        {
          "output_type": "stream",
          "name": "stdout",
          "text": [
            "Categorical columns:\n",
            "Index(['MSZoning', 'Street', 'Alley', 'LotShape', 'LandContour', 'Utilities',\n",
            "       'LotConfig', 'LandSlope', 'Neighborhood', 'Condition1', 'Condition2',\n",
            "       'BldgType', 'HouseStyle', 'RoofStyle', 'RoofMatl', 'Exterior1st',\n",
            "       'Exterior2nd', 'MasVnrType', 'ExterQual', 'ExterCond', 'Foundation',\n",
            "       'BsmtQual', 'BsmtCond', 'BsmtExposure', 'BsmtFinType1', 'BsmtFinType2',\n",
            "       'Heating', 'HeatingQC', 'CentralAir', 'Electrical', 'KitchenQual',\n",
            "       'Functional', 'FireplaceQu', 'GarageType', 'GarageFinish', 'GarageQual',\n",
            "       'GarageCond', 'PavedDrive', 'PoolQC', 'Fence', 'MiscFeature',\n",
            "       'SaleType', 'SaleCondition'],\n",
            "      dtype='object')\n"
          ]
        }
      ]
    },
    {
      "cell_type": "markdown",
      "source": [
        "We remove those categorical variables that have more than 50% of the values missing as they don't give us a clear picture of the data."
      ],
      "metadata": {
        "id": "nUHOUWIb2Bze"
      }
    },
    {
      "cell_type": "code",
      "source": [
        "missing_percentages = train[categorical_cols].isnull().mean() * 100\n",
        "threshold = 50\n",
        "# Filter out variables with more than the threshold percentage of missing values\n",
        "filtered_categorical = missing_percentages[missing_percentages <= threshold].index\n",
        "print(\"Categorical variables after filtering for missing values:\")\n",
        "print(filtered_categorical)"
      ],
      "metadata": {
        "colab": {
          "base_uri": "https://localhost:8080/"
        },
        "id": "k7Sg0sTz2RLV",
        "outputId": "578ebb21-c408-4f75-9ee8-8093f4c9f5d1"
      },
      "execution_count": null,
      "outputs": [
        {
          "output_type": "stream",
          "name": "stdout",
          "text": [
            "Categorical variables after filtering for missing values:\n",
            "Index(['MSZoning', 'Street', 'LotShape', 'LandContour', 'Utilities',\n",
            "       'LotConfig', 'LandSlope', 'Neighborhood', 'Condition1', 'Condition2',\n",
            "       'BldgType', 'HouseStyle', 'RoofStyle', 'RoofMatl', 'Exterior1st',\n",
            "       'Exterior2nd', 'ExterQual', 'ExterCond', 'Foundation', 'BsmtQual',\n",
            "       'BsmtCond', 'BsmtExposure', 'BsmtFinType1', 'BsmtFinType2', 'Heating',\n",
            "       'HeatingQC', 'CentralAir', 'Electrical', 'KitchenQual', 'Functional',\n",
            "       'FireplaceQu', 'GarageType', 'GarageFinish', 'GarageQual', 'GarageCond',\n",
            "       'PavedDrive', 'SaleType', 'SaleCondition'],\n",
            "      dtype='object')\n"
          ]
        }
      ]
    },
    {
      "cell_type": "markdown",
      "source": [
        "### Impact evaluation"
      ],
      "metadata": {
        "id": "y5DG6CK1vlO0"
      }
    },
    {
      "cell_type": "markdown",
      "source": [
        "We compute the **Mean Difference** across categories to capture how much the average `SalePrice` varies between the categories in a categorical variable. We then select the relevant and influential varibales."
      ],
      "metadata": {
        "id": "UAGunDP4vuFj"
      }
    },
    {
      "cell_type": "code",
      "source": [
        "variation_data = []\n",
        "for col in filtered_categorical:\n",
        "  group_stats = train.groupby(col)['SalePrice'].mean()\n",
        "  mean_diff = group_stats.max() - group_stats.min()\n",
        "  variation_data.append([col, mean_diff])\n",
        "variation_df = pd.DataFrame(variation_data, columns=['Feature', 'Mean_Difference'])\n",
        "variation_df = variation_df.sort_values(by='Mean_Difference', ascending=False)\n",
        "print(\"Top 10 Categorical Variables based on Mean Difference:\")\n",
        "print(variation_df.head(10))"
      ],
      "metadata": {
        "colab": {
          "base_uri": "https://localhost:8080/"
        },
        "id": "vkmph9Ia2mSr",
        "outputId": "8135753f-d700-4a97-bb2f-38a834183ae3"
      },
      "execution_count": null,
      "outputs": [
        {
          "output_type": "stream",
          "name": "stdout",
          "text": [
            "Top 10 Categorical Variables based on Mean Difference:\n",
            "          Feature  Mean_Difference\n",
            "16      ExterQual    279375.747253\n",
            "13       RoofMatl    253250.000000\n",
            "7    Neighborhood    236718.846485\n",
            "9      Condition2    228250.000000\n",
            "28    KitchenQual    222989.464872\n",
            "15    Exterior2nd    214000.000000\n",
            "19       BsmtQual    211349.012751\n",
            "30    FireplaceQu    207948.350000\n",
            "14    Exterior1st    191000.000000\n",
            "37  SaleCondition    168166.752000\n"
          ]
        }
      ]
    },
    {
      "cell_type": "markdown",
      "source": [
        "Among these variables, selecting the ones with a clear rating system will make the conversion process much more smoother. So we will select the following variables for our study:\n",
        "\n",
        "1. **ExterQual**: Evaluates the quality of the material on the exterior\n",
        "2. **KitchenQual**: Kitchen quality\n",
        "3. **BsmtQual**: Evaluates the height of the basement\n",
        "4. **FireplaceQu**: Fireplace quality\n",
        "\n",
        "*Using all the cateogrical variables by converting using Dummies or One-hot encoding brings more noise to the model and worsens the accuracy. So we have decided to stick with these variables for this project.*"
      ],
      "metadata": {
        "id": "_qQGJCSF6PRV"
      }
    },
    {
      "cell_type": "markdown",
      "source": [
        "### Conversion"
      ],
      "metadata": {
        "id": "9pQ7l4D9vycx"
      }
    },
    {
      "cell_type": "markdown",
      "source": [
        "Our next step is to convert these variables into numerical representations, but the method depends on the nature of the variables.\n",
        "\n",
        "All our selected variables are **Ordinal Variables** that follow the following structure:\n",
        "\n",
        "```\n",
        "  Ex\t:Excellent\n",
        "  Gd\t:Good\n",
        "  TA\t:Average/Typical\n",
        "  Fa\t:Fair\n",
        "  Po\t:Poor\n",
        "  NA    :Not Applicable\n",
        "```\n",
        "We'll apply ordinal encoding. This involves mapping each category to a numerical scale that reflects its ranking (e.g., 'NA' < 'Po' < 'Fa' < 'TA' < 'Gd' < 'Ex')."
      ],
      "metadata": {
        "id": "v2-qMRF7v2em"
      }
    },
    {
      "cell_type": "code",
      "source": [
        "qual_mapping = {'NA': 0, 'Po':1, 'Fa': 2, 'TA': 3, 'Gd': 4, 'Ex': 5}\n",
        "\n",
        "train['ExterQual_num'] = train['ExterQual'].map(qual_mapping)\n",
        "train['KitchenQual_num'] = train['KitchenQual'].map(qual_mapping)\n",
        "train['BsmtQual_num'] = train['BsmtQual'].map(qual_mapping)\n",
        "train['FireplaceQu_num'] = train['FireplaceQu'].map(qual_mapping)\n",
        "\n",
        "# Do the same for the test set\n",
        "test['ExterQual_num'] = test['ExterQual'].map(qual_mapping)\n",
        "test['KitchenQual_num'] = test['KitchenQual'].map(qual_mapping)\n",
        "test['BsmtQual_num'] = test['BsmtQual'].map(qual_mapping)\n",
        "test['FireplaceQu_num'] = test['FireplaceQu'].map(qual_mapping)"
      ],
      "metadata": {
        "id": "zRrSrnuRv6H5"
      },
      "execution_count": null,
      "outputs": []
    },
    {
      "cell_type": "markdown",
      "source": [
        "## Correlation Analysis"
      ],
      "metadata": {
        "id": "dulPdQ9v9HBy"
      }
    },
    {
      "cell_type": "markdown",
      "source": [
        "Finding the variables highly correlated with `SalePrice`"
      ],
      "metadata": {
        "id": "TnWt5SBlL3-h"
      }
    },
    {
      "cell_type": "code",
      "source": [
        "import numpy as np\n",
        "# Select numeric features and compute correlation matrix\n",
        "numeric_features = train.select_dtypes(include=['number'])\n",
        "corr_matrix = numeric_features.corr()\n",
        "# Calculate absolute correlations with SalePrice and remove SalePrice itself\n",
        "saleprice_corr = corr_matrix['SalePrice'].abs().drop('SalePrice')\n",
        "# Set a threshold (e.g., 0.5)\n",
        "threshold = 0.6\n",
        "# Filter features based on the threshold\n",
        "selected_features = saleprice_corr[saleprice_corr >= threshold]\n",
        "print(\"Features with correlation with SalePrice >= {}:\".format(threshold))\n",
        "print(selected_features)"
      ],
      "metadata": {
        "colab": {
          "base_uri": "https://localhost:8080/"
        },
        "id": "RU59bMtfL-RD",
        "outputId": "4c0b6bb1-dede-4372-9839-7d27433d4c65"
      },
      "execution_count": null,
      "outputs": [
        {
          "output_type": "stream",
          "name": "stdout",
          "text": [
            "Features with correlation with SalePrice >= 0.6:\n",
            "OverallQual        0.790982\n",
            "TotalBsmtSF        0.613581\n",
            "1stFlrSF           0.605852\n",
            "GrLivArea          0.708624\n",
            "GarageCars         0.640409\n",
            "GarageArea         0.623431\n",
            "ExterQual_num      0.682639\n",
            "KitchenQual_num    0.659600\n",
            "BsmtQual_num       0.644019\n",
            "Name: SalePrice, dtype: float64\n"
          ]
        }
      ]
    },
    {
      "cell_type": "markdown",
      "source": [
        "Checking for **Multicollinearity** among those variables"
      ],
      "metadata": {
        "id": "BqkAHWCEKsh4"
      }
    },
    {
      "cell_type": "code",
      "source": [
        "# Set threshold for high correlation (e.g., 0.8)\n",
        "threshold = 0.8\n",
        "# Get the correlation matrix for only the top features\n",
        "top_corr = numeric_features[selected_features.index].corr()\n",
        "# Find pairs with correlation above the threshold (excluding self-correlation)\n",
        "high_corr_pairs = []\n",
        "for i in range(len(top_corr.columns)):\n",
        "    for j in range(i+1, len(top_corr.columns)):\n",
        "        if abs(top_corr.iloc[i, j]) > threshold:\n",
        "            feature1 = top_corr.columns[i]\n",
        "            feature2 = top_corr.columns[j]\n",
        "            corr_value = top_corr.iloc[i, j]\n",
        "            high_corr_pairs.append((feature1, feature2, corr_value))\n",
        "print(\"Pairs of top features with correlation above\", threshold, \":\")\n",
        "for pair in high_corr_pairs:\n",
        "    print(f\"{pair[0]} and {pair[1]}: correlation = {pair[2]:.2f}\")"
      ],
      "metadata": {
        "colab": {
          "base_uri": "https://localhost:8080/"
        },
        "id": "TyJxOon69exs",
        "outputId": "0b8d01c2-1cc7-4f19-dab6-cf6179b9a7a9"
      },
      "execution_count": null,
      "outputs": [
        {
          "output_type": "stream",
          "name": "stdout",
          "text": [
            "Pairs of top features with correlation above 0.8 :\n",
            "TotalBsmtSF and 1stFlrSF: correlation = 0.82\n",
            "GarageCars and GarageArea: correlation = 0.88\n"
          ]
        }
      ]
    },
    {
      "cell_type": "markdown",
      "source": [
        "**Handling Multicollinearity:** As we can see, some variables are highly correlated with each other. This can cause problems during modeling. So, we combine some variables to account for their joint effect and remove some others whose effect has already been captured.\n"
      ],
      "metadata": {
        "id": "_MvVmXEWIXeu"
      }
    },
    {
      "cell_type": "code",
      "source": [
        "selected_features = selected_features.index.tolist()\n",
        "# The effect of the following variables can be comined to a single variable\n",
        "sf_combined = ['1stFlrSF', '2ndFlrSF', 'TotalBsmtSF', 'GrLivArea']\n",
        "train['TotalSF'] = 0\n",
        "test['TotalSF'] = 0\n",
        "for i in sf_combined:\n",
        "  train['TotalSF'] += train[i]\n",
        "  test['TotalSF'] += test[i]\n",
        "  if i in selected_features:\n",
        "    selected_features.remove(i)\n",
        "selected_features.append('TotalSF')\n",
        "# Remove GarageArea since it's effects are already accounted for in GarageCars\n",
        "selected_features.remove('GarageArea')\n",
        "print(\"Selected Features:\")\n",
        "print(selected_features)"
      ],
      "metadata": {
        "id": "fWD7esGpIaBX",
        "colab": {
          "base_uri": "https://localhost:8080/"
        },
        "outputId": "0386d549-ec7e-4bbd-d080-a4973a662e38"
      },
      "execution_count": null,
      "outputs": [
        {
          "output_type": "stream",
          "name": "stdout",
          "text": [
            "Selected Features:\n",
            "['OverallQual', 'GarageCars', 'ExterQual_num', 'KitchenQual_num', 'BsmtQual_num', 'TotalSF']\n"
          ]
        }
      ]
    },
    {
      "cell_type": "markdown",
      "source": [
        "The selected variables:\n",
        "```\n",
        "1. OverallQual\n",
        "2. GarageCars\n",
        "3. ExterQual_num\n",
        "4. KitchenQual_num\n",
        "5. BsmtQual_num\n",
        "6. TotalSF\n",
        "```\n",
        "These are the only variables we will use to train the model since these have the most relevant effect."
      ],
      "metadata": {
        "id": "AEslNBn9dG4T"
      }
    },
    {
      "cell_type": "code",
      "source": [
        "numeric_features = train[selected_features + ['SalePrice']]\n",
        "\n",
        "# Compute the correlation matrix for the selected features along with SalePrice\n",
        "corr_matrix_selected = numeric_features.corr()\n",
        "\n",
        "# Extract the correlations with SalePrice, drop SalePrice itself, and sort\n",
        "selected_corr = corr_matrix_selected['SalePrice'].drop('SalePrice').abs().sort_values(ascending=False)\n",
        "\n",
        "print(\"Correlations of selected features with SalePrice:\")\n",
        "print(selected_corr)"
      ],
      "metadata": {
        "id": "whamzyPNSNcP",
        "colab": {
          "base_uri": "https://localhost:8080/"
        },
        "outputId": "71b5baeb-ef5e-4834-d607-945b6f73e34b"
      },
      "execution_count": null,
      "outputs": [
        {
          "output_type": "stream",
          "name": "stdout",
          "text": [
            "Correlations of selected features with SalePrice:\n",
            "OverallQual        0.790982\n",
            "TotalSF            0.777123\n",
            "ExterQual_num      0.682639\n",
            "KitchenQual_num    0.659600\n",
            "BsmtQual_num       0.644019\n",
            "GarageCars         0.640409\n",
            "Name: SalePrice, dtype: float64\n"
          ]
        }
      ]
    },
    {
      "cell_type": "markdown",
      "source": [
        "We can see that the varibales we have selected are well correlated with the `SalePrice`. So, we can continue with model building using these variables as independent variables."
      ],
      "metadata": {
        "id": "MMn3oKS0w5p1"
      }
    },
    {
      "cell_type": "markdown",
      "source": [
        "## Checking for outliers"
      ],
      "metadata": {
        "id": "Cr92u6T0xzfv"
      }
    },
    {
      "cell_type": "code",
      "source": [
        "# IQR Method for detecting outliers\n",
        "def detect_outliers_iqr(df, feature):\n",
        "    Q1 = df[feature].quantile(0.25)\n",
        "    Q3 = df[feature].quantile(0.75)\n",
        "    IQR = Q3 - Q1\n",
        "    lower_bound = Q1 - 1.5 * IQR\n",
        "    upper_bound = Q3 + 1.5 * IQR\n",
        "    outliers = df[(df[feature] < lower_bound) | (df[feature] > upper_bound)]\n",
        "    return outliers\n",
        "\n",
        "# Check for outliers in each selected feature\n",
        "outlier_counts = {}\n",
        "for feature in selected_features:\n",
        "    outliers = detect_outliers_iqr(train, feature)\n",
        "    outlier_counts[feature] = len(outliers)\n",
        "\n",
        "# Print outlier counts for each feature\n",
        "print(\"Outlier counts per feature (IQR Method):\")\n",
        "print(outlier_counts)"
      ],
      "metadata": {
        "id": "e0WCrA5pa9dg",
        "colab": {
          "base_uri": "https://localhost:8080/"
        },
        "outputId": "f560d47e-e504-42b5-c8a8-8959783594af"
      },
      "execution_count": null,
      "outputs": [
        {
          "output_type": "stream",
          "name": "stdout",
          "text": [
            "Outlier counts per feature (IQR Method):\n",
            "{'OverallQual': 2, 'GarageCars': 5, 'ExterQual_num': 0, 'KitchenQual_num': 0, 'BsmtQual_num': 0, 'TotalSF': 30}\n"
          ]
        }
      ]
    },
    {
      "cell_type": "markdown",
      "source": [
        "`TotalSF` has the most outliers. Let's look at its probability distribution."
      ],
      "metadata": {
        "id": "gYB3grLVx96H"
      }
    },
    {
      "cell_type": "code",
      "source": [
        "plt.figure(figsize=(10, 6))\n",
        "sns.histplot(train['TotalSF'], kde=True, bins=30)\n",
        "plt.title('Probability Distribution of TotalSF')\n",
        "plt.xlabel('TotalSF')\n",
        "plt.ylabel('Frequency')\n",
        "plt.show()"
      ],
      "metadata": {
        "colab": {
          "base_uri": "https://localhost:8080/"
        },
        "id": "0Ym_1ruIyFQe",
        "outputId": "b5095a3a-ec26-4240-ba2d-5874137aa402"
      },
      "execution_count": null,
      "outputs": [
        {
          "output_type": "display_data",
          "data": {
            "text/plain": [
              "<Figure size 1000x600 with 1 Axes>"
            ],
            "image/png": "[encoded data removed]"
          },
          "metadata": {}
        }
      ]
    },
    {
      "cell_type": "markdown",
      "source": [
        "## Applying log transformation"
      ],
      "metadata": {
        "id": "CMkn2EZZzDtC"
      }
    },
    {
      "cell_type": "markdown",
      "source": [
        "Both `TotalSF`and `SalePrice`follow a normal distribution with a strong right skewness. Transforming both using logarthmic transformations to remove the skewness improves the model accuracy considerably."
      ],
      "metadata": {
        "id": "I2RReYdhyNAD"
      }
    },
    {
      "cell_type": "code",
      "source": [
        "# Apply log transformation to SalePrice and TotalSF in training data\n",
        "train['SalePrice_log'] = np.log1p(train['SalePrice'])\n",
        "train['TotalSF_log'] = np.log1p(train['TotalSF'])\n",
        "\n",
        "# Apply log transformation to TotalSF in test data\n",
        "test['TotalSF_log'] = np.log1p(test['TotalSF'])\n",
        "index=selected_features.index(\"TotalSF\")\n",
        "selected_features[index]=\"TotalSF_log\""
      ],
      "metadata": {
        "id": "yt9m7wstyrtM"
      },
      "execution_count": null,
      "outputs": []
    },
    {
      "cell_type": "markdown",
      "source": [
        "# Modelling"
      ],
      "metadata": {
        "id": "_Ki5mMzNRt7f"
      }
    },
    {
      "cell_type": "markdown",
      "source": [
        "## Multiple linear regression modelling"
      ],
      "metadata": {
        "id": "AzeTD0bgy_Re"
      }
    },
    {
      "cell_type": "code",
      "source": [
        "from sklearn.model_selection import train_test_split\n",
        "from sklearn.linear_model import LinearRegression\n",
        "from sklearn.metrics import mean_squared_error # Importing mean_squared_error for RMSE calculation\n",
        "from sklearn.impute import SimpleImputer # Importing the SimpleImputer class\n",
        "\n",
        "# Create the feature matrix X and target vector y using the transformed target\n",
        "X = train[selected_features]\n",
        "y = train['SalePrice_log']\n",
        "\n",
        "# Impute missing values\n",
        "imputer = SimpleImputer(strategy='mean')  # Create an imputer instance\n",
        "X = imputer.fit_transform(X)  # Fit and transform the imputer on your data\n",
        "\n",
        "# Split the data into training and validation sets (80/20 split)\n",
        "X_train, X_val, y_train, y_val = train_test_split(X, y, test_size=0.2, random_state=42)\n",
        "\n",
        "# Initialize and fit a Linear Regression model\n",
        "model = LinearRegression()\n",
        "model.fit(X_train, y_train)\n",
        "\n",
        "# Predict on the validation set\n",
        "y_pred_log = model.predict(X_val)\n",
        "\n",
        "# Calculate RMSE on the log-transformed scale\n",
        "rmse_log = np.sqrt(mean_squared_error(y_val, y_pred_log))\n",
        "print(\"Baseline Linear Regression RMSE on log scale:\", rmse_log)\n",
        "\n",
        "# Convert predictions back to original scale and compute RMSE there\n",
        "y_pred_orig = np.expm1(y_pred_log)\n",
        "y_val_orig = np.expm1(y_val)\n",
        "rmse_orig = np.sqrt(mean_squared_error(y_val_orig, y_pred_orig))\n",
        "print(\"Baseline Linear Regression RMSE on original scale:\", rmse_orig)\n",
        "\n",
        "from sklearn.metrics import r2_score\n",
        "r2 = r2_score(y_val_orig, y_pred_orig)\n",
        "print(\"R2 value:\", r2)\n",
        "\n",
        "# Visualize Actual vs. Predicted on log scale\n",
        "import matplotlib.pyplot as plt # Importing matplotlib for visualization\n",
        "import seaborn as sns # Importing seaborn for enhanced visualization\n",
        "plt.figure(figsize=(8,6))\n",
        "sns.scatterplot(x=y_val, y=y_pred_log)\n",
        "plt.xlabel(\"Actual Log(SalePrice)\")\n",
        "plt.ylabel(\"Predicted Log(SalePrice)\")\n",
        "plt.title(\"Actual vs. Predicted (Log-Transformed SalePrice)\")\n",
        "plt.plot([y_val.min(), y_val.max()], [y_val.min(), y_val.max()], 'r--')\n",
        "plt.show()"
      ],
      "metadata": {
        "colab": {
          "base_uri": "https://localhost:8080/",
          "height": 619
        },
        "id": "vWdkFiF1XLET",
        "outputId": "c2cc40ca-d994-446f-d595-b12385acd230"
      },
      "execution_count": null,
      "outputs": [
        {
          "output_type": "stream",
          "name": "stdout",
          "text": [
            "Baseline Linear Regression RMSE on log scale: 0.16967743700367333\n",
            "Baseline Linear Regression RMSE on original scale: 32304.024598020682\n",
            "R2 value: 0.8639497229920008\n"
          ]
        },
        {
          "output_type": "display_data",
          "data": {
            "text/plain": [
              "<Figure size 800x600 with 1 Axes>"
            ],
            "image/png": "[encoded data removed]"
          },
          "metadata": {}
        }
      ]
    },
    {
      "cell_type": "markdown",
      "source": [
        "## Modelling `SalePrice` in Test Data"
      ],
      "metadata": {
        "id": "Pw3lFNbuNJb1"
      }
    },
    {
      "cell_type": "code",
      "source": [
        "X_test = test[selected_features]\n",
        "X_test = imputer.transform(X_test)\n",
        "y_test_pred_log = model.predict(X_test)\n",
        "y_test_pred_orig = np.expm1(y_test_pred_log)\n",
        "submission = pd.DataFrame({\n",
        "    \"Id\": test[\"Id\"],\n",
        "    \"SalePrice\": y_test_pred_orig  # or y_test_pred_log if that's what you need\n",
        "})\n",
        "submission.to_csv(\"/content/drive/MyDrive/Colab Notebooks/submission.csv\", index=False)\n",
        "print(\"Submission file created successfully!\")"
      ],
      "metadata": {
        "id": "TfbgApeANR72",
        "colab": {
          "base_uri": "https://localhost:8080/"
        },
        "outputId": "bf995294-88f0-4843-efc2-983f5a7e9cb8"
      },
      "execution_count": null,
      "outputs": [
        {
          "output_type": "stream",
          "name": "stdout",
          "text": [
            "Submission file created successfully!\n"
          ]
        }
      ]
    }
  ]
}